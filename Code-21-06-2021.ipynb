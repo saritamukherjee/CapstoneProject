{
 "cells": [
  {
   "cell_type": "code",
   "execution_count": null,
   "metadata": {},
   "outputs": [
    {
     "name": "stderr",
     "output_type": "stream",
     "text": [
      "100%|█████████████████████████████████████████████████████████████████████████████| 6000/6000 [00:43<00:00, 137.79it/s]\n"
     ]
    }
   ],
   "source": [
    "import pandas as pd\n",
    "import shutil\n",
    "import os\n",
    "import sys\n",
    "os.getcwd()\n",
    "from keras.models import Sequential, Model\n",
    "from keras.layers import Conv2D, MaxPooling2D, Flatten, Dense, GlobalAveragePooling2D\n",
    "# #feature extraction using VGG-19\n",
    "from keras.layers import Input, Lambda, Dense, Flatten\n",
    "from keras.models import Model\n",
    "from keras.applications.vgg19 import VGG19\n",
    "from keras.applications.vgg19 import preprocess_input\n",
    "from keras.preprocessing import image\n",
    "from keras.preprocessing.image import ImageDataGenerator\n",
    "import numpy as np\n",
    "from glob import glob\n",
    "import matplotlib.pyplot as plt\n",
    "from tqdm import tqdm\n",
    "#print(tf.__version__)\n",
    "train = pd.read_csv('C:\\\\Users\\\\sarita.mukherjee\\\\Downloads\\\\Capstone_Project\\\\train.csv')\n",
    "fashion_dir= \"C:\\\\Users\\\\sarita.mukherjee\\\\Downloads\\\\Capstone_Project\\\\fashion\\\\\"\n",
    "train_path = 'C:\\\\Users\\\\sarita.mukherjee\\\\Downloads\\\\Capstone_Project\\\\category\\\\Train'\n",
    "train_image = []\n",
    "for i in tqdm(range(train.shape[0])):\n",
    "    img = image.load_img(fashion_dir+train['images'][i], target_size=(224,224,3), grayscale=False)\n",
    "    img = image.img_to_array(img)\n",
    "    img = img/255\n",
    "    train_image.append(img)\n",
    "images = np.array(train_image)\n",
    "#images\n",
    "model = VGG19(include_top=False,pooling='avg',input_shape=(224,224,3))\n",
    "#print(model)\n",
    "features = model.predict(images)\n",
    "#conversion of features to dataframe\n",
    "features = pd.DataFrame(features)\n",
    "print(features)"
   ]
  },
  {
   "cell_type": "code",
   "execution_count": null,
   "metadata": {},
   "outputs": [],
   "source": []
  }
 ],
 "metadata": {
  "kernelspec": {
   "display_name": "Python 3",
   "language": "python",
   "name": "python3"
  },
  "language_info": {
   "codemirror_mode": {
    "name": "ipython",
    "version": 3
   },
   "file_extension": ".py",
   "mimetype": "text/x-python",
   "name": "python",
   "nbconvert_exporter": "python",
   "pygments_lexer": "ipython3",
   "version": "3.8.5"
  }
 },
 "nbformat": 4,
 "nbformat_minor": 4
}
